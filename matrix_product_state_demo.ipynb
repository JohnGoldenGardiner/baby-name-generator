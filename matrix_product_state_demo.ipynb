{
 "cells": [
  {
   "cell_type": "code",
   "execution_count": 1,
   "metadata": {},
   "outputs": [],
   "source": [
    "import numpy as np"
   ]
  },
  {
   "cell_type": "markdown",
   "metadata": {},
   "source": [
    "# Matrix Product State Generative Model"
   ]
  },
  {
   "cell_type": "markdown",
   "metadata": {},
   "source": [
    "## Prep datasets"
   ]
  },
  {
   "cell_type": "code",
   "execution_count": 2,
   "metadata": {},
   "outputs": [],
   "source": [
    "# parse text files\n",
    "with open('names/yob2022.txt', 'r') as f:\n",
    "    female_names = []\n",
    "    male_names = []\n",
    "    female_counts = []\n",
    "    male_counts = []\n",
    "    vocabulary = set()\n",
    "    max_length = 0\n",
    "    for line in f:\n",
    "        name, gender, count = line.split(',')\n",
    "        name = name.lower()\n",
    "        count = int(count)\n",
    "        max_length = max(max_length, len(name))\n",
    "        if gender == 'F':\n",
    "            female_names.append(name)\n",
    "            female_counts.append(count)\n",
    "            for i in range(len(name)):\n",
    "                vocabulary.add(name[i])\n",
    "        elif gender == 'M':\n",
    "            male_names.append(name)\n",
    "            male_counts.append(count)\n",
    "            for i in range(len(name)):\n",
    "                vocabulary.add(name[i])\n",
    "        else:\n",
    "            print(f'Name {name} with gender {gender} is not counted')\n",
    "\n",
    "female_counts = np.array(female_counts)\n",
    "male_counts = np.array(male_counts)\n",
    "\n",
    "for i, name in enumerate(female_names):\n",
    "    female_names[i] = name.ljust(max_length, '_')\n",
    "for i, name in enumerate(male_names):\n",
    "    male_names[i] = name.ljust(max_length, '_')\n",
    "vocabulary.add('_')\n",
    "\n",
    "vocabulary = sorted(list(vocabulary))\n",
    "vocab_size = len(vocabulary)\n",
    "\n",
    "# tokenize\n",
    "map_char_to_int = {char: i for i, char in enumerate(vocabulary)}\n",
    "female_tokens = np.array([[map_char_to_int[char] for char in name] for name in female_names])\n",
    "male_tokens = np.array([[map_char_to_int[char] for char in name] for name in male_names])"
   ]
  },
  {
   "cell_type": "markdown",
   "metadata": {},
   "source": [
    "## Initialize MPS model"
   ]
  },
  {
   "cell_type": "code",
   "execution_count": 226,
   "metadata": {},
   "outputs": [],
   "source": [
    "from matrix_product_state import MatrixProductState\n",
    "\n",
    "\n",
    "# initialize MPS\n",
    "num_tensors = max_length\n",
    "site_dims = [vocab_size]*max_length\n",
    "mps = MatrixProductState(max_length, site_dims)\n",
    "\n",
    "\n",
    "# test train split\n",
    "test_frac = 0.2\n",
    "num_points = female_tokens.shape[0]\n",
    "inds = np.random.permutation(female_tokens.shape[0])\n",
    "inds_train = inds[int(test_frac*num_points):]\n",
    "inds_test = inds[:int(test_frac*num_points)]\n",
    "\n",
    "# sample training data\n",
    "n_train = 10000\n",
    "probs = female_counts[inds_train]/np.sum(female_counts[inds_train])\n",
    "inds = np.random.choice(inds_train, p=probs, size=n_train)\n",
    "X_train = female_tokens[inds]\n",
    "\n",
    "# sample test data\n",
    "n_test = 1000\n",
    "probs = female_counts[inds_test]/np.sum(female_counts[inds_test])\n",
    "inds = np.random.choice(inds_test, p=probs, size=n_test)\n",
    "X_test = female_tokens[inds]\n",
    "\n",
    "# load data\n",
    "mps.load_data(X_train, dataset_name='train')\n",
    "mps.load_data(X_test, dataset_name='test')\n"
   ]
  },
  {
   "cell_type": "markdown",
   "metadata": {},
   "source": [
    "Play around with model parameters by setting the attributes `mps.cutoff` and `mps.max_rank`"
   ]
  },
  {
   "cell_type": "code",
   "execution_count": 227,
   "metadata": {},
   "outputs": [],
   "source": [
    "mps.cutoff = 1e-3\n",
    "mps.max_rank = 15"
   ]
  },
  {
   "cell_type": "markdown",
   "metadata": {},
   "source": [
    "## Train"
   ]
  },
  {
   "cell_type": "markdown",
   "metadata": {},
   "source": [
    "Play around with training parameters by setting the attributes `mps.batch_size` and `mps.learning_rate`"
   ]
  },
  {
   "cell_type": "code",
   "execution_count": 229,
   "metadata": {},
   "outputs": [
    {
     "name": "stdout",
     "output_type": "stream",
     "text": [
      "Finished sweep 0. Sweep direction: left\n",
      "Ranks: [15, 15, 15, 15, 15, 15, 15, 15, 7, 3, 2, 2, 1, 1]\n",
      "Losses: {'train': 10.974141803066843, 'test': 15.385003965887288}\n",
      "Finished sweep 1. Sweep direction: right\n",
      "Ranks: [15, 15, 15, 15, 15, 15, 15, 15, 7, 3, 2, 2, 1, 1]\n",
      "Losses: {'train': 10.967709042689243, 'test': 15.389053952791581}\n",
      "Finished sweep 2. Sweep direction: left\n",
      "Ranks: [15, 15, 15, 15, 15, 15, 15, 15, 7, 3, 2, 2, 1, 1]\n",
      "Losses: {'train': 10.961578763730172, 'test': 15.381724282157043}\n",
      "Finished sweep 3. Sweep direction: right\n",
      "Ranks: [15, 15, 15, 15, 15, 15, 15, 15, 7, 3, 2, 2, 1, 1]\n",
      "Losses: {'train': 10.955543522340415, 'test': 15.373177553206162}\n",
      "Finished sweep 4. Sweep direction: left\n",
      "Ranks: [15, 15, 15, 15, 15, 15, 15, 15, 7, 3, 2, 2, 1, 1]\n",
      "Losses: {'train': 10.949696759761533, 'test': 15.358546494760027}\n",
      "Finished sweep 5. Sweep direction: right\n",
      "Ranks: [15, 15, 15, 15, 15, 15, 15, 15, 7, 3, 2, 2, 1, 1]\n",
      "Losses: {'train': 10.94381290385149, 'test': 15.351486224870143}\n",
      "Finished sweep 6. Sweep direction: left\n",
      "Ranks: [15, 15, 15, 15, 15, 15, 15, 15, 7, 3, 2, 2, 1, 1]\n",
      "Losses: {'train': 10.93830396689192, 'test': 15.34064262874346}\n",
      "Finished sweep 7. Sweep direction: right\n",
      "Ranks: [15, 15, 15, 15, 15, 15, 15, 15, 7, 3, 2, 2, 1, 1]\n",
      "Losses: {'train': 10.932805645659663, 'test': 15.336375599655407}\n",
      "Finished sweep 8. Sweep direction: left\n",
      "Ranks: [15, 15, 15, 15, 15, 15, 15, 15, 7, 3, 2, 2, 1, 1]\n",
      "Losses: {'train': 10.927307092356413, 'test': 15.325420924471699}\n",
      "Finished sweep 9. Sweep direction: right\n",
      "Ranks: [15, 15, 15, 15, 15, 15, 15, 15, 7, 3, 2, 2, 1, 1]\n",
      "Losses: {'train': 10.921939053120092, 'test': 15.325175626625708}\n",
      "Finished sweep 10. Sweep direction: left\n",
      "Ranks: [15, 15, 15, 15, 15, 15, 15, 15, 7, 3, 2, 2, 1, 1]\n",
      "Losses: {'train': 10.916799179094905, 'test': 15.333673396624803}\n",
      "Finished sweep 11. Sweep direction: right\n",
      "Ranks: [15, 15, 15, 15, 15, 15, 15, 15, 7, 3, 2, 2, 1, 1]\n",
      "Losses: {'train': 10.91157099024639, 'test': 15.346643676150078}\n",
      "Finished sweep 12. Sweep direction: left\n",
      "Ranks: [15, 15, 15, 15, 15, 15, 15, 15, 7, 3, 2, 2, 1, 1]\n",
      "Losses: {'train': 10.906686965345378, 'test': 15.361389607254424}\n",
      "Finished sweep 13. Sweep direction: right\n",
      "Ranks: [15, 15, 15, 15, 15, 15, 15, 15, 7, 3, 2, 2, 1, 1]\n",
      "Losses: {'train': 10.90176373583408, 'test': 15.362530159987717}\n",
      "Finished sweep 14. Sweep direction: left\n",
      "Ranks: [15, 15, 15, 15, 15, 15, 15, 15, 7, 3, 2, 2, 1, 1]\n",
      "Losses: {'train': 10.897048819528056, 'test': 15.38335910448775}\n",
      "Finished sweep 15. Sweep direction: right\n",
      "Ranks: [15, 15, 15, 15, 15, 15, 15, 15, 7, 3, 2, 2, 1, 1]\n",
      "Losses: {'train': 10.892416581057269, 'test': 15.396843094462708}\n",
      "Finished sweep 16. Sweep direction: left\n",
      "Ranks: [15, 15, 15, 15, 15, 15, 15, 15, 7, 3, 2, 2, 1, 1]\n",
      "Losses: {'train': 10.888166863203608, 'test': 15.39810462210688}\n",
      "Finished sweep 17. Sweep direction: right\n",
      "Ranks: [15, 15, 15, 15, 15, 15, 15, 15, 7, 3, 2, 2, 1, 1]\n",
      "Losses: {'train': 10.88383811595049, 'test': 15.406402643042235}\n",
      "Finished sweep 18. Sweep direction: left\n",
      "Ranks: [15, 15, 15, 15, 15, 15, 15, 15, 7, 3, 2, 2, 1, 1]\n",
      "Losses: {'train': 10.879669919999712, 'test': 15.419744026297868}\n",
      "Finished sweep 19. Sweep direction: right\n",
      "Ranks: [15, 15, 15, 15, 15, 15, 15, 15, 7, 3, 2, 2, 1, 1]\n",
      "Losses: {'train': 10.87567784565174, 'test': 15.42292025358053}\n",
      "Finished sweep 20. Sweep direction: left\n",
      "Ranks: [15, 15, 15, 15, 15, 15, 15, 15, 7, 3, 2, 2, 1, 1]\n",
      "Losses: {'train': 10.871957508786334, 'test': 15.457583977862742}\n",
      "Finished sweep 21. Sweep direction: right\n",
      "Ranks: [15, 15, 15, 15, 15, 15, 15, 15, 7, 3, 2, 2, 1, 1]\n",
      "Losses: {'train': 10.868248801874373, 'test': 15.451758695847035}\n",
      "Finished sweep 22. Sweep direction: left\n",
      "Ranks: [15, 15, 15, 15, 15, 15, 15, 15, 7, 3, 2, 2, 1, 1]\n",
      "Losses: {'train': 10.864738502854461, 'test': 15.46850793843292}\n",
      "Finished sweep 23. Sweep direction: right\n",
      "Ranks: [15, 15, 15, 15, 15, 15, 15, 15, 7, 3, 2, 2, 1, 1]\n",
      "Losses: {'train': 10.861154871301473, 'test': 15.490751405971277}\n",
      "Finished sweep 24. Sweep direction: left\n",
      "Ranks: [15, 15, 15, 15, 15, 15, 15, 15, 7, 3, 2, 2, 1, 1]\n",
      "Losses: {'train': 10.857903702276381, 'test': 15.470190882921315}\n",
      "Finished sweep 25. Sweep direction: right\n",
      "Ranks: [15, 15, 15, 15, 15, 15, 15, 15, 7, 3, 2, 2, 1, 1]\n",
      "Losses: {'train': 10.854608813489909, 'test': 15.473363995057888}\n",
      "Finished sweep 26. Sweep direction: left\n",
      "Ranks: [15, 15, 15, 15, 15, 15, 15, 15, 7, 3, 2, 2, 1, 1]\n",
      "Losses: {'train': 10.851594593827883, 'test': 15.482770304078233}\n",
      "Finished sweep 27. Sweep direction: right\n",
      "Ranks: [15, 15, 15, 15, 15, 15, 15, 15, 7, 3, 2, 2, 1, 1]\n",
      "Losses: {'train': 10.848431698077489, 'test': 15.509701827205657}\n",
      "Finished sweep 28. Sweep direction: left\n",
      "Ranks: [15, 15, 15, 15, 15, 15, 15, 15, 7, 3, 2, 2, 1, 1]\n",
      "Losses: {'train': 10.845541942489325, 'test': 15.468222282981559}\n",
      "Finished sweep 29. Sweep direction: right\n",
      "Ranks: [15, 15, 15, 15, 15, 15, 15, 15, 7, 3, 2, 2, 1, 1]\n",
      "Losses: {'train': 10.842616521979748, 'test': 15.46955617233909}\n",
      "Finished sweep 30. Sweep direction: left\n",
      "Ranks: [15, 15, 15, 15, 15, 15, 15, 15, 7, 3, 2, 2, 1, 1]\n",
      "Losses: {'train': 10.839895303174941, 'test': 15.454570194374526}\n",
      "Finished sweep 31. Sweep direction: right\n",
      "Ranks: [15, 15, 15, 15, 15, 15, 15, 15, 7, 3, 2, 2, 1, 1]\n",
      "Losses: {'train': 10.837061845314434, 'test': 15.485742416047575}\n",
      "Finished sweep 32. Sweep direction: left\n",
      "Ranks: [15, 15, 15, 15, 15, 15, 15, 15, 7, 3, 2, 2, 1, 1]\n",
      "Losses: {'train': 10.834427322361, 'test': 15.479275097128742}\n",
      "Finished sweep 33. Sweep direction: right\n",
      "Ranks: [15, 15, 15, 15, 15, 15, 15, 15, 7, 3, 2, 2, 1, 1]\n",
      "Losses: {'train': 10.831762122136057, 'test': 15.543650602767928}\n",
      "Finished sweep 34. Sweep direction: left\n",
      "Ranks: [15, 15, 15, 15, 15, 15, 15, 15, 7, 3, 2, 2, 1, 1]\n",
      "Losses: {'train': 10.82928360324562, 'test': 15.508767255233554}\n",
      "Finished sweep 35. Sweep direction: right\n",
      "Ranks: [15, 15, 15, 15, 15, 15, 15, 15, 7, 3, 2, 2, 1, 1]\n",
      "Losses: {'train': 10.82675692362184, 'test': 15.491541095693611}\n",
      "Finished sweep 36. Sweep direction: left\n",
      "Ranks: [15, 15, 15, 15, 15, 15, 15, 15, 7, 3, 2, 2, 1, 1]\n",
      "Losses: {'train': 10.824390845977165, 'test': 15.48768956966901}\n",
      "Finished sweep 37. Sweep direction: right\n",
      "Ranks: [15, 15, 15, 15, 15, 15, 15, 15, 7, 3, 2, 2, 1, 1]\n",
      "Losses: {'train': 10.821986465846205, 'test': 15.477911111212736}\n",
      "Finished sweep 38. Sweep direction: left\n",
      "Ranks: [15, 15, 15, 15, 15, 15, 15, 15, 7, 3, 2, 2, 1, 1]\n",
      "Losses: {'train': 10.81975828120931, 'test': 15.48421333862378}\n",
      "Finished sweep 39. Sweep direction: right\n",
      "Ranks: [15, 15, 15, 15, 15, 15, 15, 15, 7, 3, 2, 2, 1, 1]\n",
      "Losses: {'train': 10.817493015176424, 'test': 15.489087386683368}\n",
      "Finished sweep 40. Sweep direction: left\n",
      "Ranks: [15, 15, 15, 15, 15, 15, 15, 15, 7, 3, 2, 2, 1, 1]\n",
      "Losses: {'train': 10.815365044182135, 'test': 15.492339894214759}\n",
      "Finished sweep 41. Sweep direction: right\n",
      "Ranks: [15, 15, 15, 15, 15, 15, 15, 15, 7, 3, 2, 2, 1, 1]\n",
      "Losses: {'train': 10.812986871952468, 'test': 15.49665538642222}\n",
      "Finished sweep 42. Sweep direction: left\n",
      "Ranks: [15, 15, 15, 15, 15, 15, 15, 15, 7, 3, 2, 2, 1, 1]\n",
      "Losses: {'train': 10.810959825540767, 'test': 15.508258588392534}\n",
      "Finished sweep 43. Sweep direction: right\n",
      "Ranks: [15, 15, 15, 15, 15, 15, 15, 15, 7, 3, 2, 2, 1, 1]\n",
      "Losses: {'train': 10.808919270694073, 'test': 15.477784547419834}\n",
      "Finished sweep 44. Sweep direction: left\n",
      "Ranks: [15, 15, 15, 15, 15, 15, 15, 15, 7, 3, 2, 2, 1, 1]\n",
      "Losses: {'train': 10.80692607781627, 'test': 15.501373239438996}\n",
      "Finished sweep 45. Sweep direction: right\n",
      "Ranks: [15, 15, 15, 15, 15, 15, 15, 15, 7, 3, 2, 2, 1, 1]\n",
      "Losses: {'train': 10.804983843801237, 'test': 15.493906161705407}\n",
      "Finished sweep 46. Sweep direction: left\n",
      "Ranks: [15, 15, 15, 15, 15, 15, 15, 15, 7, 3, 2, 2, 1, 1]\n",
      "Losses: {'train': 10.803117897470962, 'test': 15.459894074977742}\n",
      "Finished sweep 47. Sweep direction: right\n",
      "Ranks: [15, 15, 15, 15, 15, 15, 15, 15, 7, 3, 2, 2, 1, 1]\n",
      "Losses: {'train': 10.801171627898263, 'test': 15.448878290409885}\n",
      "Finished sweep 48. Sweep direction: left\n",
      "Ranks: [15, 15, 15, 15, 15, 15, 15, 15, 7, 3, 2, 2, 1, 1]\n",
      "Losses: {'train': 10.799430000395406, 'test': 15.444622263490386}\n",
      "Finished sweep 49. Sweep direction: right\n",
      "Ranks: [15, 15, 15, 15, 15, 15, 15, 15, 7, 3, 2, 2, 1, 1]\n",
      "Losses: {'train': 10.797624581023587, 'test': 15.455140645279899}\n"
     ]
    }
   ],
   "source": [
    "mps.batch_size = 10000\n",
    "mps.learning_rate = 1e-6\n",
    "\n",
    "mps.verbose = 1\n",
    "mps.train(num_sweeps=50)"
   ]
  },
  {
   "cell_type": "markdown",
   "metadata": {},
   "source": [
    "Plot losses"
   ]
  },
  {
   "cell_type": "code",
   "execution_count": 230,
   "metadata": {},
   "outputs": [
    {
     "data": {
      "image/png": "[encoded data removed]",
      "text/plain": [
       "<Figure size 640x480 with 1 Axes>"
      ]
     },
     "metadata": {},
     "output_type": "display_data"
    }
   ],
   "source": [
    "import matplotlib.pyplot as plt\n",
    "\n",
    "# plt.plot(np.log(np.arange(len(mps.losses['train']))), np.log(mps.losses['train']))\n",
    "# plt.plot(np.log(np.arange(len(mps.losses['test']))), np.log(mps.losses['test']))\n",
    "plt.plot(mps.losses['train'])\n",
    "plt.plot(mps.losses['test'])\n",
    "plt.show()"
   ]
  },
  {
   "cell_type": "markdown",
   "metadata": {},
   "source": [
    "## Sample"
   ]
  },
  {
   "cell_type": "code",
   "execution_count": 231,
   "metadata": {},
   "outputs": [],
   "source": [
    "# sample tokens from model\n",
    "samples = mps.sample(num_samples=1000)\n",
    "\n",
    "# change from tokens back to characters\n",
    "def untokenize(tokens):\n",
    "    split_names = np.array(vocabulary)[tokens]\n",
    "    names = []\n",
    "    for name in split_names:\n",
    "        names.append(''.join(name))\n",
    "    return names\n",
    "\n",
    "sampled_names = untokenize(samples)\n"
   ]
  },
  {
   "cell_type": "markdown",
   "metadata": {},
   "source": [
    "Check quality"
   ]
  },
  {
   "cell_type": "code",
   "execution_count": 232,
   "metadata": {},
   "outputs": [
    {
     "name": "stdout",
     "output_type": "stream",
     "text": [
      "851/1000 names not in training data\n",
      "778/1000 names not in full dataset\n",
      "\n",
      "Some names not in the training dataset:\n",
      "\talisy__________\n",
      "\tzami___________\n",
      "\tsakth__________\n",
      "\tratemw_________\n",
      "\tinereni________\n",
      "\tkaes___________\n",
      "\tallhia_________\n",
      "\tausarela_______\n",
      "\trilper_________\n",
      "\tfipana_________\n",
      "\n",
      "Some names not in the full dataset:\n",
      "\twiolyn_________\n",
      "\tevecelle_______\n",
      "\toauyn__________\n",
      "\telear__________\n",
      "\tchannd_________\n",
      "\tkalephia_______\n",
      "\trolce__________\n",
      "\tryapelia_______\n",
      "\tmarelia________\n",
      "\tivabey_________\n"
     ]
    }
   ],
   "source": [
    "\n",
    "female_name_set = set(female_names)\n",
    "train_name_set = set(untokenize(X_train))\n",
    "not_in_training = []\n",
    "not_in_dataset = []\n",
    "for name in sampled_names:\n",
    "    if name not in female_name_set:\n",
    "        not_in_dataset.append(name)\n",
    "    if name not in train_name_set:\n",
    "        not_in_training.append(name)\n",
    "\n",
    "num_samples = samples.shape[0]\n",
    "print(f'{len(not_in_training)}/{num_samples} names not in training data')\n",
    "print(f'{len(not_in_dataset)}/{num_samples} names not in full dataset')\n",
    "\n",
    "print('\\nSome names not in the training dataset:')\n",
    "random_names = np.random.choice(not_in_training, 10, replace=False)\n",
    "for name in random_names:\n",
    "    print(f'\\t{name}')\n",
    "\n",
    "print('\\nSome names not in the full dataset:')\n",
    "random_names = np.random.choice(not_in_dataset, 10, replace=False)\n",
    "for name in random_names:\n",
    "    print(f'\\t{name}')"
   ]
  },
  {
   "cell_type": "code",
   "execution_count": null,
   "metadata": {},
   "outputs": [],
   "source": []
  },
  {
   "cell_type": "code",
   "execution_count": null,
   "metadata": {},
   "outputs": [],
   "source": []
  }
 ],
 "metadata": {
  "kernelspec": {
   "display_name": "pytorch",
   "language": "python",
   "name": "python3"
  },
  "language_info": {
   "codemirror_mode": {
    "name": "ipython",
    "version": 3
   },
   "file_extension": ".py",
   "mimetype": "text/x-python",
   "name": "python",
   "nbconvert_exporter": "python",
   "pygments_lexer": "ipython3",
   "version": "3.11.5"
  }
 },
 "nbformat": 4,
 "nbformat_minor": 2
}
