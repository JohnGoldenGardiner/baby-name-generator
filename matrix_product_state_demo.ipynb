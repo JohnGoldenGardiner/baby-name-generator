{
 "cells": [
  {
   "cell_type": "code",
   "execution_count": 1,
   "metadata": {},
   "outputs": [],
   "source": [
    "import numpy as np"
   ]
  },
  {
   "cell_type": "markdown",
   "metadata": {},
   "source": [
    "# Matrix Product State Generative Model"
   ]
  },
  {
   "cell_type": "markdown",
   "metadata": {},
   "source": [
    "### Prep datasets"
   ]
  },
  {
   "cell_type": "code",
   "execution_count": 2,
   "metadata": {},
   "outputs": [],
   "source": [
    "# parse text files\n",
    "\n",
    "year_range = [1880, 2022] # Include years in this range, inclusive\n",
    "\n",
    "female_names = []\n",
    "male_names = []\n",
    "female_counts = []\n",
    "male_counts = []\n",
    "vocabulary = set()\n",
    "max_length = 0\n",
    "for year in range(year_range[0], year_range[1] + 1):\n",
    "    with open(f'names/yob{year}.txt', 'r') as f:\n",
    "        for line in f:\n",
    "            name, gender, count = line.split(',')\n",
    "            name = name.lower()\n",
    "            count = int(count)\n",
    "            max_length = max(max_length, len(name))\n",
    "            if gender == 'F':\n",
    "                female_names.append(name)\n",
    "                female_counts.append(count)\n",
    "                for i in range(len(name)):\n",
    "                    vocabulary.add(name[i])\n",
    "            elif gender == 'M':\n",
    "                male_names.append(name)\n",
    "                male_counts.append(count)\n",
    "                for i in range(len(name)):\n",
    "                    vocabulary.add(name[i])\n",
    "            else:\n",
    "                print(f'Name {name} with gender {gender} is not counted')\n",
    "\n",
    "female_counts = np.array(female_counts)\n",
    "male_counts = np.array(male_counts)\n",
    "\n",
    "for i, name in enumerate(female_names):\n",
    "    female_names[i] = name.ljust(max_length, '_')\n",
    "for i, name in enumerate(male_names):\n",
    "    male_names[i] = name.ljust(max_length, '_')\n",
    "vocabulary.add('_')\n",
    "\n",
    "vocabulary = sorted(list(vocabulary))\n",
    "vocab_size = len(vocabulary)\n",
    "\n",
    "# tokenize\n",
    "map_char_to_int = {char: i for i, char in enumerate(vocabulary)}\n",
    "female_tokens = np.array([[map_char_to_int[char] for char in name] for name in female_names])\n",
    "male_tokens = np.array([[map_char_to_int[char] for char in name] for name in male_names])"
   ]
  },
  {
   "cell_type": "markdown",
   "metadata": {},
   "source": [
    "### Initialize MPS model"
   ]
  },
  {
   "cell_type": "code",
   "execution_count": 38,
   "metadata": {},
   "outputs": [],
   "source": [
    "from matrix_product_state import MatrixProductState\n",
    "\n",
    "from importlib import reload\n",
    "import matrix_product_state\n",
    "reload(matrix_product_state)\n",
    "from matrix_product_state import MatrixProductState\n",
    "\n",
    "\n",
    "# initialize MPS\n",
    "num_tensors = max_length\n",
    "site_dims = [vocab_size]*max_length\n",
    "mps = MatrixProductState(max_length, site_dims)\n",
    "\n",
    "\n",
    "# test train split\n",
    "test_frac = 0.2\n",
    "num_points = female_tokens.shape[0]\n",
    "inds = np.random.permutation(female_tokens.shape[0])\n",
    "inds_train = inds[int(test_frac*num_points):]\n",
    "inds_test = inds[:int(test_frac*num_points)]\n",
    "\n",
    "# sample training data\n",
    "n_train = 10000\n",
    "probs = female_counts[inds_train]/np.sum(female_counts[inds_train])\n",
    "inds = np.random.choice(inds_train, p=probs, size=n_train)\n",
    "X_train = female_tokens[inds]\n",
    "\n",
    "# sample test data\n",
    "n_test = 1000\n",
    "probs = female_counts[inds_test]/np.sum(female_counts[inds_test])\n",
    "inds = np.random.choice(inds_test, p=probs, size=n_test)\n",
    "X_test = female_tokens[inds]\n",
    "\n",
    "# load data\n",
    "mps.load_data(X_train, dataset_name='train')\n",
    "mps.load_data(X_test, dataset_name='test')\n"
   ]
  },
  {
   "cell_type": "markdown",
   "metadata": {},
   "source": [
    "Play around with model parameters by setting the attributes `mps.cutoff` and `mps.max_rank`"
   ]
  },
  {
   "cell_type": "code",
   "execution_count": 39,
   "metadata": {},
   "outputs": [],
   "source": [
    "mps.cutoff = 1e-3\n",
    "mps.max_rank = 50"
   ]
  },
  {
   "cell_type": "markdown",
   "metadata": {},
   "source": [
    "### Train"
   ]
  },
  {
   "cell_type": "markdown",
   "metadata": {},
   "source": [
    "Play around with training parameters by setting the attributes `mps.batch_size` and `mps.learning_rate`"
   ]
  },
  {
   "cell_type": "code",
   "execution_count": 40,
   "metadata": {},
   "outputs": [
    {
     "name": "stdout",
     "output_type": "stream",
     "text": [
      "Finished sweep 0. Sweep direction: left\n",
      "Ranks: [5, 4, 3, 23, 10, 33, 23, 17, 8, 2, 3, 2, 2, 3]\n",
      "Losses: {'train': 131.56171893130787, 'test': 131.0629168998878}\n"
     ]
    },
    {
     "name": "stderr",
     "output_type": "stream",
     "text": [
      "/home/johngardiner/projects/name-generator/matrix_product_state.py:244: RuntimeWarning: overflow encountered in divide\n",
      "  mats = -2*np.einsum('ij,i,ki->jik', left_environment, 1/amplitudes, right_environment)\n",
      "/home/johngardiner/projects/name-generator/matrix_product_state.py:256: RuntimeWarning: invalid value encountered in divide\n",
      "  self.merged_tensor /= np.sum(self.merged_tensor**2)**0.5 # keep the merged tensor (and hence the whole MPS) normed to 1\n"
     ]
    },
    {
     "ename": "ValueError",
     "evalue": "Merged tensor contains NaN",
     "output_type": "error",
     "traceback": [
      "\u001b[0;31m---------------------------------------------------------------------------\u001b[0m",
      "\u001b[0;31mLinAlgError\u001b[0m                               Traceback (most recent call last)",
      "File \u001b[0;32m~/projects/name-generator/matrix_product_state.py:183\u001b[0m, in \u001b[0;36mMatrixProductState.split_merged\u001b[0;34m(self, center_right)\u001b[0m\n\u001b[1;32m    182\u001b[0m \u001b[38;5;28;01mtry\u001b[39;00m:\n\u001b[0;32m--> 183\u001b[0m     u, s, v_dag \u001b[38;5;241m=\u001b[39m np\u001b[38;5;241m.\u001b[39mlinalg\u001b[38;5;241m.\u001b[39msvd(\u001b[38;5;28mself\u001b[39m\u001b[38;5;241m.\u001b[39mmerged_tensor\u001b[38;5;241m.\u001b[39mreshape((d1\u001b[38;5;241m*\u001b[39md2, d3\u001b[38;5;241m*\u001b[39md4)))\n\u001b[1;32m    184\u001b[0m \u001b[38;5;28;01mexcept\u001b[39;00m np\u001b[38;5;241m.\u001b[39mlinalg\u001b[38;5;241m.\u001b[39mLinAlgError \u001b[38;5;28;01mas\u001b[39;00m e:\n",
      "File \u001b[0;32m~/anaconda3/envs/pytorch/lib/python3.11/site-packages/numpy/linalg/linalg.py:1681\u001b[0m, in \u001b[0;36msvd\u001b[0;34m(a, full_matrices, compute_uv, hermitian)\u001b[0m\n\u001b[1;32m   1680\u001b[0m signature \u001b[38;5;241m=\u001b[39m \u001b[38;5;124m'\u001b[39m\u001b[38;5;124mD->DdD\u001b[39m\u001b[38;5;124m'\u001b[39m \u001b[38;5;28;01mif\u001b[39;00m isComplexType(t) \u001b[38;5;28;01melse\u001b[39;00m \u001b[38;5;124m'\u001b[39m\u001b[38;5;124md->ddd\u001b[39m\u001b[38;5;124m'\u001b[39m\n\u001b[0;32m-> 1681\u001b[0m u, s, vh \u001b[38;5;241m=\u001b[39m gufunc(a, signature\u001b[38;5;241m=\u001b[39msignature, extobj\u001b[38;5;241m=\u001b[39mextobj)\n\u001b[1;32m   1682\u001b[0m u \u001b[38;5;241m=\u001b[39m u\u001b[38;5;241m.\u001b[39mastype(result_t, copy\u001b[38;5;241m=\u001b[39m\u001b[38;5;28;01mFalse\u001b[39;00m)\n",
      "File \u001b[0;32m~/anaconda3/envs/pytorch/lib/python3.11/site-packages/numpy/linalg/linalg.py:121\u001b[0m, in \u001b[0;36m_raise_linalgerror_svd_nonconvergence\u001b[0;34m(err, flag)\u001b[0m\n\u001b[1;32m    120\u001b[0m \u001b[38;5;28;01mdef\u001b[39;00m \u001b[38;5;21m_raise_linalgerror_svd_nonconvergence\u001b[39m(err, flag):\n\u001b[0;32m--> 121\u001b[0m     \u001b[38;5;28;01mraise\u001b[39;00m LinAlgError(\u001b[38;5;124m\"\u001b[39m\u001b[38;5;124mSVD did not converge\u001b[39m\u001b[38;5;124m\"\u001b[39m)\n",
      "\u001b[0;31mLinAlgError\u001b[0m: SVD did not converge",
      "\nDuring handling of the above exception, another exception occurred:\n",
      "\u001b[0;31mValueError\u001b[0m                                Traceback (most recent call last)",
      "Cell \u001b[0;32mIn[40], line 5\u001b[0m\n\u001b[1;32m      2\u001b[0m mps\u001b[38;5;241m.\u001b[39mlearning_rate \u001b[38;5;241m=\u001b[39m \u001b[38;5;241m1e-4\u001b[39m\n\u001b[1;32m      4\u001b[0m mps\u001b[38;5;241m.\u001b[39mverbose \u001b[38;5;241m=\u001b[39m \u001b[38;5;241m1\u001b[39m\n\u001b[0;32m----> 5\u001b[0m mps\u001b[38;5;241m.\u001b[39mtrain(num_sweeps\u001b[38;5;241m=\u001b[39m\u001b[38;5;241m10\u001b[39m)\n",
      "File \u001b[0;32m~/projects/name-generator/matrix_product_state.py:280\u001b[0m, in \u001b[0;36mMatrixProductState.train\u001b[0;34m(self, num_sweeps)\u001b[0m\n\u001b[1;32m    277\u001b[0m \u001b[38;5;28;01mdef\u001b[39;00m \u001b[38;5;21mtrain\u001b[39m(\u001b[38;5;28mself\u001b[39m, num_sweeps):\n\u001b[1;32m    278\u001b[0m     \u001b[38;5;28;01mfor\u001b[39;00m i \u001b[38;5;129;01min\u001b[39;00m \u001b[38;5;28mrange\u001b[39m(num_sweeps):\n\u001b[1;32m    279\u001b[0m         \u001b[38;5;66;03m# alternate sweeping direction, starting left\u001b[39;00m\n\u001b[0;32m--> 280\u001b[0m         \u001b[38;5;28mself\u001b[39m\u001b[38;5;241m.\u001b[39mtraining_sweep(sweep_right\u001b[38;5;241m=\u001b[39m\u001b[38;5;28mbool\u001b[39m(i\u001b[38;5;241m%\u001b[39m\u001b[38;5;241m2\u001b[39m))\n\u001b[1;32m    281\u001b[0m         \u001b[38;5;28;01mif\u001b[39;00m \u001b[38;5;28mself\u001b[39m\u001b[38;5;241m.\u001b[39mverbose:\n\u001b[1;32m    282\u001b[0m             \u001b[38;5;28mprint\u001b[39m(\u001b[38;5;124mf\u001b[39m\u001b[38;5;124m'\u001b[39m\u001b[38;5;124mFinished sweep \u001b[39m\u001b[38;5;132;01m{\u001b[39;00mi\u001b[38;5;132;01m}\u001b[39;00m\u001b[38;5;124m. Sweep direction: \u001b[39m\u001b[38;5;132;01m{\u001b[39;00m\u001b[38;5;124m\"\u001b[39m\u001b[38;5;124mright\u001b[39m\u001b[38;5;124m\"\u001b[39m\u001b[38;5;250m \u001b[39m\u001b[38;5;28;01mif\u001b[39;00m\u001b[38;5;250m \u001b[39mi\u001b[38;5;241m%\u001b[39m\u001b[38;5;241m2\u001b[39m\u001b[38;5;250m \u001b[39m\u001b[38;5;28;01melse\u001b[39;00m\u001b[38;5;250m \u001b[39m\u001b[38;5;124m\"\u001b[39m\u001b[38;5;124mleft\u001b[39m\u001b[38;5;124m\"\u001b[39m\u001b[38;5;132;01m}\u001b[39;00m\u001b[38;5;124m'\u001b[39m)\n",
      "File \u001b[0;32m~/projects/name-generator/matrix_product_state.py:266\u001b[0m, in \u001b[0;36mMatrixProductState.training_sweep\u001b[0;34m(self, sweep_right)\u001b[0m\n\u001b[1;32m    264\u001b[0m         \u001b[38;5;28mself\u001b[39m\u001b[38;5;241m.\u001b[39mmerge_neighbors()\n\u001b[1;32m    265\u001b[0m         \u001b[38;5;28mself\u001b[39m\u001b[38;5;241m.\u001b[39mupdate_merged()\n\u001b[0;32m--> 266\u001b[0m         \u001b[38;5;28mself\u001b[39m\u001b[38;5;241m.\u001b[39msplit_merged()\n\u001b[1;32m    267\u001b[0m \u001b[38;5;28;01melse\u001b[39;00m:\n\u001b[1;32m    268\u001b[0m     \u001b[38;5;28;01mfor\u001b[39;00m _ \u001b[38;5;129;01min\u001b[39;00m \u001b[38;5;28mrange\u001b[39m(\u001b[38;5;28mself\u001b[39m\u001b[38;5;241m.\u001b[39mcanonical_center, \u001b[38;5;241m0\u001b[39m, \u001b[38;5;241m-\u001b[39m\u001b[38;5;241m1\u001b[39m):\n",
      "File \u001b[0;32m~/projects/name-generator/matrix_product_state.py:186\u001b[0m, in \u001b[0;36mMatrixProductState.split_merged\u001b[0;34m(self, center_right)\u001b[0m\n\u001b[1;32m    184\u001b[0m \u001b[38;5;28;01mexcept\u001b[39;00m np\u001b[38;5;241m.\u001b[39mlinalg\u001b[38;5;241m.\u001b[39mLinAlgError \u001b[38;5;28;01mas\u001b[39;00m e:\n\u001b[1;32m    185\u001b[0m     \u001b[38;5;28;01mif\u001b[39;00m np\u001b[38;5;241m.\u001b[39misnan(\u001b[38;5;28mself\u001b[39m\u001b[38;5;241m.\u001b[39mmerged_tensor)\u001b[38;5;241m.\u001b[39many():\n\u001b[0;32m--> 186\u001b[0m         \u001b[38;5;28;01mraise\u001b[39;00m \u001b[38;5;167;01mValueError\u001b[39;00m(\u001b[38;5;124m'\u001b[39m\u001b[38;5;124mMerged tensor contains NaN\u001b[39m\u001b[38;5;124m'\u001b[39m)\n\u001b[1;32m    187\u001b[0m     \u001b[38;5;28;01melse\u001b[39;00m:\n\u001b[1;32m    188\u001b[0m         \u001b[38;5;28mprint\u001b[39m(\u001b[38;5;124mf\u001b[39m\u001b[38;5;124m'\u001b[39m\u001b[38;5;124mSVD likely did not converge.\u001b[39m\u001b[38;5;124m'\u001b[39m)\n",
      "\u001b[0;31mValueError\u001b[0m: Merged tensor contains NaN"
     ]
    }
   ],
   "source": [
    "mps.batch_size = 10000\n",
    "mps.learning_rate = 1e-4\n",
    "\n",
    "mps.verbose = 1\n",
    "mps.train(num_sweeps=10)"
   ]
  },
  {
   "cell_type": "markdown",
   "metadata": {},
   "source": [
    "Plot losses"
   ]
  },
  {
   "cell_type": "code",
   "execution_count": 28,
   "metadata": {},
   "outputs": [
    {
     "data": {
      "image/png": "[encoded data removed]",
      "text/plain": [
       "<Figure size 640x480 with 1 Axes>"
      ]
     },
     "metadata": {},
     "output_type": "display_data"
    }
   ],
   "source": [
    "import matplotlib.pyplot as plt\n",
    "\n",
    "# plt.plot(np.log(np.arange(len(mps.losses['train']))), np.log(mps.losses['train']))\n",
    "# plt.plot(np.log(np.arange(len(mps.losses['test']))), np.log(mps.losses['test']))\n",
    "plt.plot(mps.losses['train'], label='Training loss')\n",
    "plt.plot(mps.losses['test'], label='Test loss')\n",
    "plt.legend()\n",
    "plt.xlabel('Training sweeps')\n",
    "plt.ylabel('Loss')\n",
    "plt.show()"
   ]
  },
  {
   "cell_type": "markdown",
   "metadata": {},
   "source": [
    "### Sample"
   ]
  },
  {
   "cell_type": "code",
   "execution_count": 29,
   "metadata": {},
   "outputs": [],
   "source": [
    "# sample tokens from model\n",
    "samples = mps.sample(num_samples=1000)\n",
    "\n",
    "# change from tokens back to characters\n",
    "def untokenize(tokens):\n",
    "    split_names = np.array(vocabulary)[tokens]\n",
    "    names = []\n",
    "    for name in split_names:\n",
    "        names.append(''.join(name))\n",
    "    return names\n",
    "\n",
    "sampled_names = untokenize(samples)\n"
   ]
  },
  {
   "cell_type": "markdown",
   "metadata": {},
   "source": [
    "Check quality"
   ]
  },
  {
   "cell_type": "code",
   "execution_count": 30,
   "metadata": {},
   "outputs": [
    {
     "name": "stdout",
     "output_type": "stream",
     "text": [
      "594/1000 names not in training data\n",
      "453/1000 names not in full dataset\n",
      "\n",
      "Some names not in the training dataset:\n",
      "\tsharl__________\n",
      "\ttayetta________\n",
      "\tbever__________\n",
      "\tmahela_________\n",
      "\tkimee__________\n",
      "\tjimine_________\n",
      "\tjoruer_________\n",
      "\tambrie_________\n",
      "\tanura__________\n",
      "\tastricia_______\n",
      "\n",
      "Some names not in the full dataset:\n",
      "\tjoycdy_________\n",
      "\tvirge__________\n",
      "\tmonale_________\n",
      "\ttherson________\n",
      "\tbarona_________\n",
      "\tandrgia________\n",
      "\tdonith_________\n",
      "\tdortte_________\n",
      "\tannnie_________\n",
      "\takene__________\n"
     ]
    }
   ],
   "source": [
    "\n",
    "female_name_set = set(female_names)\n",
    "train_name_set = set(untokenize(X_train))\n",
    "not_in_training = []\n",
    "not_in_dataset = []\n",
    "for name in sampled_names:\n",
    "    if name not in female_name_set:\n",
    "        not_in_dataset.append(name)\n",
    "    if name not in train_name_set:\n",
    "        not_in_training.append(name)\n",
    "\n",
    "num_samples = samples.shape[0]\n",
    "print(f'{len(not_in_training)}/{num_samples} names not in training data')\n",
    "print(f'{len(not_in_dataset)}/{num_samples} names not in full dataset')\n",
    "\n",
    "print('\\nSome names not in the training dataset:')\n",
    "random_names = np.random.choice(not_in_training, 10, replace=False)\n",
    "for name in random_names:\n",
    "    print(f'\\t{name}')\n",
    "\n",
    "print('\\nSome names not in the full dataset:')\n",
    "random_names = np.random.choice(not_in_dataset, 10, replace=False)\n",
    "for name in random_names:\n",
    "    print(f'\\t{name}')"
   ]
  },
  {
   "cell_type": "markdown",
   "metadata": {},
   "source": [
    "# Ensemble of MPSs"
   ]
  },
  {
   "cell_type": "code",
   "execution_count": 49,
   "metadata": {},
   "outputs": [
    {
     "name": "stdout",
     "output_type": "stream",
     "text": [
      "Finished sweep 0. Sweep direction: left\n",
      "Ranks: [10, 10, 10, 10, 10, 10, 10, 6, 3, 3, 3, 3, 3, 3]\n",
      "Losses: {'train': 17.859319271575792, 'test': 19.447253051137317}\n",
      "Finished sweep 1. Sweep direction: right\n",
      "Ranks: [10, 10, 10, 10, 10, 10, 10, 10, 8, 3, 3, 3, 3, 3]\n",
      "Losses: {'train': 16.82035376852237, 'test': 18.529420480700086}\n",
      "Finished sweep 2. Sweep direction: left\n",
      "Ranks: [10, 10, 10, 10, 10, 10, 10, 10, 8, 3, 3, 3, 3, 3]\n",
      "Losses: {'train': 16.306297199178804, 'test': 17.98771875729577}\n",
      "Finished sweep 3. Sweep direction: right\n",
      "Ranks: [10, 10, 10, 10, 10, 10, 10, 10, 8, 3, 3, 3, 3, 3]\n",
      "Losses: {'train': 15.924846084360537, 'test': 17.630490981009054}\n",
      "Finished sweep 4. Sweep direction: left\n",
      "Ranks: [10, 10, 10, 10, 10, 10, 10, 10, 8, 3, 3, 3, 3, 3]\n",
      "Losses: {'train': 15.63732475249215, 'test': 17.356812827930174}\n",
      "Finished sweep 5. Sweep direction: right\n",
      "Ranks: [10, 10, 10, 10, 10, 10, 10, 10, 8, 3, 3, 3, 3, 3]\n",
      "Losses: {'train': 15.395121058719932, 'test': 17.12954210674476}\n",
      "Finished sweep 6. Sweep direction: left\n",
      "Ranks: [10, 10, 10, 10, 10, 10, 10, 10, 8, 3, 3, 3, 3, 3]\n",
      "Losses: {'train': 15.197225751992393, 'test': 16.947691852888}\n",
      "Finished sweep 7. Sweep direction: right\n",
      "Ranks: [10, 10, 10, 10, 10, 10, 10, 10, 8, 3, 3, 3, 3, 3]\n",
      "Losses: {'train': 15.0236918436224, 'test': 16.789710088110148}\n",
      "Finished sweep 8. Sweep direction: left\n",
      "Ranks: [10, 10, 10, 10, 10, 10, 10, 10, 8, 3, 3, 3, 3, 3]\n",
      "Losses: {'train': 14.875174410961266, 'test': 16.652114215744803}\n",
      "Finished sweep 9. Sweep direction: right\n",
      "Ranks: [10, 10, 10, 10, 10, 10, 10, 10, 8, 3, 3, 3, 3, 3]\n",
      "Losses: {'train': 14.741638907718187, 'test': 16.530148644316046}\n",
      "Finished sweep 10. Sweep direction: left\n",
      "Ranks: [10, 10, 10, 10, 10, 10, 10, 10, 8, 3, 3, 3, 3, 3]\n",
      "Losses: {'train': 14.624417124248302, 'test': 16.42864500888769}\n",
      "Finished sweep 11. Sweep direction: right\n",
      "Ranks: [10, 10, 10, 10, 10, 10, 10, 10, 8, 3, 3, 3, 3, 3]\n",
      "Losses: {'train': 14.516398650768396, 'test': 16.32485179419059}\n",
      "Finished sweep 12. Sweep direction: left\n",
      "Ranks: [10, 10, 10, 10, 10, 10, 10, 10, 8, 3, 3, 3, 3, 3]\n",
      "Losses: {'train': 14.419908553330952, 'test': 16.236355860051805}\n",
      "Finished sweep 13. Sweep direction: right\n",
      "Ranks: [10, 10, 10, 10, 10, 10, 10, 10, 8, 3, 3, 3, 3, 3]\n",
      "Losses: {'train': 14.330533836003603, 'test': 16.15532661589412}\n",
      "Finished sweep 14. Sweep direction: left\n",
      "Ranks: [10, 10, 10, 10, 10, 10, 10, 10, 8, 3, 3, 3, 3, 3]\n",
      "Losses: {'train': 14.24899009052884, 'test': 16.081987307667795}\n",
      "Finished sweep 15. Sweep direction: right\n",
      "Ranks: [10, 10, 10, 10, 10, 10, 10, 10, 8, 3, 3, 3, 3, 3]\n",
      "Losses: {'train': 14.173116381422645, 'test': 16.013649837035523}\n",
      "Finished sweep 16. Sweep direction: left\n",
      "Ranks: [10, 10, 10, 10, 10, 10, 10, 10, 8, 3, 3, 3, 3, 3]\n",
      "Losses: {'train': 14.103557281405775, 'test': 15.951945875911354}\n",
      "Finished sweep 17. Sweep direction: right\n",
      "Ranks: [10, 10, 10, 10, 10, 10, 10, 10, 8, 3, 3, 3, 3, 3]\n",
      "Losses: {'train': 14.038364501697515, 'test': 15.89475454666475}\n",
      "Finished sweep 18. Sweep direction: left\n",
      "Ranks: [10, 10, 10, 10, 10, 10, 10, 10, 8, 3, 3, 3, 3, 3]\n",
      "Losses: {'train': 13.977779604967111, 'test': 15.841680177145498}\n",
      "Finished sweep 19. Sweep direction: right\n",
      "Ranks: [10, 10, 10, 10, 10, 10, 10, 10, 8, 3, 3, 3, 3, 3]\n",
      "Losses: {'train': 13.920451418095046, 'test': 15.79378795592774}\n",
      "Finished sweep 20. Sweep direction: left\n",
      "Ranks: [10, 10, 10, 10, 10, 10, 10, 10, 8, 3, 3, 3, 3, 3]\n",
      "Losses: {'train': 13.867331734023423, 'test': 15.748930988869466}\n",
      "Finished sweep 21. Sweep direction: right\n",
      "Ranks: [10, 10, 10, 10, 10, 10, 10, 10, 8, 3, 3, 3, 3, 3]\n",
      "Losses: {'train': 13.816990351169848, 'test': 15.703897880626558}\n",
      "Finished sweep 22. Sweep direction: left\n",
      "Ranks: [10, 10, 10, 10, 10, 10, 10, 10, 8, 3, 3, 3, 3, 3]\n",
      "Losses: {'train': 13.76981011302578, 'test': 15.662823983285163}\n",
      "Finished sweep 23. Sweep direction: right\n",
      "Ranks: [10, 10, 10, 10, 10, 10, 10, 10, 8, 3, 3, 3, 3, 3]\n",
      "Losses: {'train': 13.724911202196468, 'test': 15.622629387766667}\n",
      "Finished sweep 24. Sweep direction: left\n",
      "Ranks: [10, 10, 10, 10, 10, 10, 10, 10, 8, 3, 3, 3, 3, 3]\n",
      "Losses: {'train': 13.68260700911823, 'test': 15.58610257342613}\n",
      "Finished sweep 25. Sweep direction: right\n",
      "Ranks: [10, 10, 10, 10, 10, 10, 10, 10, 8, 3, 3, 3, 3, 3]\n",
      "Losses: {'train': 13.64214003407527, 'test': 15.55117638634412}\n",
      "Finished sweep 26. Sweep direction: left\n",
      "Ranks: [10, 10, 10, 10, 10, 10, 10, 10, 8, 3, 3, 3, 3, 3]\n",
      "Losses: {'train': 13.603978459134442, 'test': 15.519450127673379}\n",
      "Finished sweep 27. Sweep direction: right\n",
      "Ranks: [10, 10, 10, 10, 10, 10, 10, 10, 8, 3, 3, 3, 3, 3]\n",
      "Losses: {'train': 13.567406685451575, 'test': 15.488789719431054}\n",
      "Finished sweep 28. Sweep direction: left\n",
      "Ranks: [10, 10, 10, 10, 10, 10, 10, 10, 8, 3, 3, 3, 3, 3]\n",
      "Losses: {'train': 13.532856962637368, 'test': 15.460167715975164}\n",
      "Finished sweep 29. Sweep direction: right\n",
      "Ranks: [10, 10, 10, 10, 10, 10, 10, 10, 8, 3, 3, 3, 3, 3]\n",
      "Losses: {'train': 13.499873889019359, 'test': 15.431416982552387}\n",
      "Finished sweep 30. Sweep direction: left\n",
      "Ranks: [10, 10, 10, 10, 10, 10, 10, 10, 8, 3, 3, 3, 3, 3]\n",
      "Losses: {'train': 13.468248876178926, 'test': 15.405300666339059}\n",
      "Finished sweep 31. Sweep direction: right\n",
      "Ranks: [10, 10, 10, 10, 10, 10, 10, 10, 8, 3, 3, 3, 3, 3]\n",
      "Losses: {'train': 13.43772516621073, 'test': 15.378755256599828}\n",
      "Finished sweep 32. Sweep direction: left\n",
      "Ranks: [10, 10, 10, 10, 10, 10, 10, 10, 8, 3, 3, 3, 3, 3]\n",
      "Losses: {'train': 13.408667333681393, 'test': 15.355990627285427}\n",
      "Finished sweep 33. Sweep direction: right\n",
      "Ranks: [10, 10, 10, 10, 10, 10, 10, 10, 8, 3, 3, 3, 3, 3]\n",
      "Losses: {'train': 13.380849517847857, 'test': 15.334877370947854}\n",
      "Finished sweep 34. Sweep direction: left\n",
      "Ranks: [10, 10, 10, 10, 10, 10, 10, 10, 8, 3, 3, 3, 3, 3]\n",
      "Losses: {'train': 13.354152288518229, 'test': 15.311292565275586}\n",
      "Finished sweep 35. Sweep direction: right\n",
      "Ranks: [10, 10, 10, 10, 10, 10, 10, 10, 8, 3, 3, 3, 3, 3]\n",
      "Losses: {'train': 13.328314809028225, 'test': 15.287933087636908}\n",
      "Finished sweep 36. Sweep direction: left\n",
      "Ranks: [10, 10, 10, 10, 10, 10, 10, 10, 8, 3, 3, 3, 3, 3]\n",
      "Losses: {'train': 13.303639319461299, 'test': 15.267730540110781}\n",
      "Finished sweep 37. Sweep direction: right\n",
      "Ranks: [10, 10, 10, 10, 10, 10, 10, 10, 8, 3, 3, 3, 3, 3]\n",
      "Losses: {'train': 13.279765903234711, 'test': 15.246461354840227}\n",
      "Finished sweep 38. Sweep direction: left\n",
      "Ranks: [10, 10, 10, 10, 10, 10, 10, 10, 8, 3, 3, 3, 3, 3]\n",
      "Losses: {'train': 13.256878441325727, 'test': 15.22514530670254}\n",
      "Finished sweep 39. Sweep direction: right\n",
      "Ranks: [10, 10, 10, 10, 10, 10, 10, 10, 8, 3, 3, 3, 3, 3]\n",
      "Losses: {'train': 13.234662059066881, 'test': 15.204245191654406}\n",
      "Finished sweep 40. Sweep direction: left\n",
      "Ranks: [10, 10, 10, 10, 10, 10, 10, 10, 8, 3, 3, 3, 3, 3]\n",
      "Losses: {'train': 13.213404909891228, 'test': 15.184726285206448}\n",
      "Finished sweep 41. Sweep direction: right\n",
      "Ranks: [10, 10, 10, 10, 10, 10, 10, 10, 8, 3, 3, 3, 3, 3]\n",
      "Losses: {'train': 13.192895488644645, 'test': 15.164720641531643}\n",
      "Finished sweep 42. Sweep direction: left\n",
      "Ranks: [10, 10, 10, 10, 10, 10, 10, 10, 8, 3, 3, 3, 3, 3]\n",
      "Losses: {'train': 13.17295362245222, 'test': 15.14552712284162}\n",
      "Finished sweep 43. Sweep direction: right\n",
      "Ranks: [10, 10, 10, 10, 10, 10, 10, 10, 8, 3, 3, 3, 3, 3]\n",
      "Losses: {'train': 13.153659754280461, 'test': 15.127175347510077}\n",
      "Finished sweep 44. Sweep direction: left\n",
      "Ranks: [10, 10, 10, 10, 10, 10, 10, 10, 8, 3, 3, 3, 3, 3]\n",
      "Losses: {'train': 13.134988972275009, 'test': 15.109797375860563}\n",
      "Finished sweep 45. Sweep direction: right\n",
      "Ranks: [10, 10, 10, 10, 10, 10, 10, 10, 8, 3, 3, 3, 3, 3]\n",
      "Losses: {'train': 13.116804175068603, 'test': 15.093236221010823}\n",
      "Finished sweep 46. Sweep direction: left\n",
      "Ranks: [10, 10, 10, 10, 10, 10, 10, 10, 8, 3, 3, 3, 3, 3]\n",
      "Losses: {'train': 13.099282550127924, 'test': 15.07541808513378}\n",
      "Finished sweep 47. Sweep direction: right\n",
      "Ranks: [10, 10, 10, 10, 10, 10, 10, 10, 8, 3, 3, 3, 3, 3]\n",
      "Losses: {'train': 13.082265436884574, 'test': 15.05812925942654}\n",
      "Finished sweep 48. Sweep direction: left\n",
      "Ranks: [10, 10, 10, 10, 10, 10, 10, 10, 8, 3, 3, 3, 3, 3]\n",
      "Losses: {'train': 13.065852092338647, 'test': 15.042850677620123}\n",
      "Finished sweep 49. Sweep direction: right\n",
      "Ranks: [10, 10, 10, 10, 10, 10, 10, 10, 8, 3, 3, 3, 3, 3]\n",
      "Losses: {'train': 13.04984907929204, 'test': 15.026577012492897}\n"
     ]
    }
   ],
   "source": [
    "from importlib import reload\n",
    "import matrix_product_state\n",
    "reload(matrix_product_state)\n",
    "from matrix_product_state import MPSForest\n",
    "\n",
    "\n",
    "# initialize MPS\n",
    "num_models = 2\n",
    "num_tensors = max_length\n",
    "site_dims = [vocab_size]*max_length\n",
    "mps = MPSForest(num_models, max_length, site_dims)\n",
    "\n",
    "\n",
    "# test train split\n",
    "test_frac = 0.2\n",
    "num_points = female_tokens.shape[0]\n",
    "inds = np.random.permutation(female_tokens.shape[0])\n",
    "inds_train = inds[int(test_frac*num_points):]\n",
    "inds_test = inds[:int(test_frac*num_points)]\n",
    "\n",
    "# sample training data\n",
    "n_train = 10000\n",
    "probs = female_counts[inds_train]/np.sum(female_counts[inds_train])\n",
    "inds = np.random.choice(inds_train, p=probs, size=n_train)\n",
    "X_train = female_tokens[inds]\n",
    "\n",
    "# sample test data\n",
    "n_test = 1000\n",
    "probs = female_counts[inds_test]/np.sum(female_counts[inds_test])\n",
    "inds = np.random.choice(inds_test, p=probs, size=n_test)\n",
    "X_test = female_tokens[inds]\n",
    "\n",
    "# load data\n",
    "mps.load_data(X_train, dataset_name='train')\n",
    "mps.load_data(X_test, dataset_name='test')\n",
    "\n",
    "# model hyperparameters\n",
    "mps.cutoff = 1e-3\n",
    "mps.max_rank = 10\n",
    "\n",
    "# training parameters\n",
    "mps.batch_size = 10000\n",
    "mps.learning_rate = 1e-7\n",
    "\n",
    "# train\n",
    "mps.verbose = 1\n",
    "mps.train(num_sweeps=50)"
   ]
  },
  {
   "cell_type": "code",
   "execution_count": 48,
   "metadata": {},
   "outputs": [
    {
     "data": {
      "image/png": "[encoded data removed]",
      "text/plain": [
       "<Figure size 640x480 with 1 Axes>"
      ]
     },
     "metadata": {},
     "output_type": "display_data"
    }
   ],
   "source": [
    "import matplotlib.pyplot as plt\n",
    "\n",
    "# plt.plot(np.log(np.arange(len(mps.losses['train']))), np.log(mps.losses['train']))\n",
    "# plt.plot(np.log(np.arange(len(mps.losses['test']))), np.log(mps.losses['test']))\n",
    "plt.plot(mps.losses['train'])\n",
    "plt.plot(mps.losses['test'])\n",
    "plt.show()"
   ]
  },
  {
   "cell_type": "code",
   "execution_count": 46,
   "metadata": {},
   "outputs": [
    {
     "name": "stdout",
     "output_type": "stream",
     "text": [
      "961/1000 names not in training data\n",
      "880/1000 names not in full dataset\n",
      "\n",
      "Some names not in the training dataset:\n",
      "\tressy__________\n",
      "\tscie___________\n",
      "\tmeli___________\n",
      "\tmadtyi_________\n",
      "\tarelee_________\n",
      "\tlenrann________\n",
      "\twiilon_________\n",
      "\tbruina_________\n",
      "\tmalian_________\n",
      "\talthelia_______\n",
      "\n",
      "Some names not in the full dataset:\n",
      "\tisola__________\n",
      "\tpie____________\n",
      "\tlazine_________\n",
      "\trakleee________\n",
      "\teryrale________\n",
      "\tilbna__________\n",
      "\tbdeys__________\n",
      "\tpalolie________\n",
      "\telarta_________\n",
      "\txaba___________\n"
     ]
    }
   ],
   "source": [
    "# sample tokens from model\n",
    "samples = mps.sample(num_samples=1000)\n",
    "\n",
    "# change from tokens back to characters\n",
    "def untokenize(tokens):\n",
    "    split_names = np.array(vocabulary)[tokens]\n",
    "    names = []\n",
    "    for name in split_names:\n",
    "        names.append(''.join(name))\n",
    "    return names\n",
    "\n",
    "sampled_names = untokenize(samples)\n",
    "\n",
    "\n",
    "\n",
    "female_name_set = set(female_names)\n",
    "train_name_set = set(untokenize(X_train))\n",
    "not_in_training = []\n",
    "not_in_dataset = []\n",
    "for name in sampled_names:\n",
    "    if name not in female_name_set:\n",
    "        not_in_dataset.append(name)\n",
    "    if name not in train_name_set:\n",
    "        not_in_training.append(name)\n",
    "\n",
    "num_samples = samples.shape[0]\n",
    "print(f'{len(not_in_training)}/{num_samples} names not in training data')\n",
    "print(f'{len(not_in_dataset)}/{num_samples} names not in full dataset')\n",
    "\n",
    "print('\\nSome names not in the training dataset:')\n",
    "random_names = np.random.choice(not_in_training, 10, replace=False)\n",
    "for name in random_names:\n",
    "    print(f'\\t{name}')\n",
    "\n",
    "print('\\nSome names not in the full dataset:')\n",
    "random_names = np.random.choice(not_in_dataset, 10, replace=False)\n",
    "for name in random_names:\n",
    "    print(f'\\t{name}')\n"
   ]
  }
 ],
 "metadata": {
  "kernelspec": {
   "display_name": "pytorch",
   "language": "python",
   "name": "python3"
  },
  "language_info": {
   "codemirror_mode": {
    "name": "ipython",
    "version": 3
   },
   "file_extension": ".py",
   "mimetype": "text/x-python",
   "name": "python",
   "nbconvert_exporter": "python",
   "pygments_lexer": "ipython3",
   "version": "3.11.5"
  }
 },
 "nbformat": 4,
 "nbformat_minor": 2
}
